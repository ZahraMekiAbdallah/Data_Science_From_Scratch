{
 "cells": [
  {
   "cell_type": "markdown",
   "id": "28086775",
   "metadata": {},
   "source": [
    "# Chapter 5. Statistics"
   ]
  },
  {
   "cell_type": "markdown",
   "id": "bee65254",
   "metadata": {},
   "source": [
    "> ## <font color='red'>Describing a Single Set of Data</font> \n",
    "> - How many friends your members have?"
   ]
  },
  {
   "cell_type": "code",
   "execution_count": 1,
   "id": "d57c5b7a",
   "metadata": {},
   "outputs": [],
   "source": [
    "from collections import Counter\n",
    "import matplotlib.pyplot as plt"
   ]
  },
  {
   "cell_type": "code",
   "execution_count": 1,
   "id": "9d537ab6",
   "metadata": {},
   "outputs": [],
   "source": [
    "num_friends = [100.0,49,41,40,25,21,21,19,19,18,18,16,15,15,15,15,14,14,13,13,13,13,12,12,11,\n",
    "               10,10,10,10,10,10,10,10,10,10,10,10,10,10,10,\n",
    "               9,9,9,9,9,9,9,9,9,9,9,9,9,9,9,9,9,9,8,8,8,8,8,8,8,8,8,8,8,8,8,7,7,7,7,7,7,7,7,7,7,7,7,7,7,7,\n",
    "               6,6,6,6,6,6,6,6,6,6,6,6,6,6,6,6,6,6,6,6,6,6,5,5,5,5,5,5,5,5,5,5,5,5,5,5,5,5,5,\n",
    "               4,4,4,4,4,4,4,4,4,4,4,4,4,4,4,4,4,4,4,4,3,3,3,3,3,3,3,3,3,3,3,3,3,3,3,3,3,3,3,3,\n",
    "               2,2,2,2,2,2,2,2,2,2,2,2,2,2,2,2,2,1,1,1,1,1,1,1,1,1,1,1,1,1,1,1,1,1,1,1,1,1,1]"
   ]
  },
  {
   "cell_type": "code",
   "execution_count": 3,
   "id": "108a64f1",
   "metadata": {},
   "outputs": [
    {
     "data": {
      "image/png": "[encoded data removed]",
      "text/plain": [
       "<Figure size 1080x504 with 1 Axes>"
      ]
     },
     "metadata": {
      "needs_background": "light"
     },
     "output_type": "display_data"
    }
   ],
   "source": [
    "friend_counts = Counter(num_friends)\n",
    "\n",
    "plt.figure(figsize=(15, 7))\n",
    "xs = range(101)                         # largest value is 100\n",
    "ys = [friend_counts[x] for x in xs]     # height is just # of friends\n",
    "plt.bar(xs, ys)\n",
    "plt.axis([0, 101, 0, 25])\n",
    "plt.title(\"Histogram of Friend Counts\")\n",
    "plt.xlabel(\"# of friends\")\n",
    "plt.ylabel(\"# of people\");"
   ]
  },
  {
   "cell_type": "markdown",
   "id": "105426da",
   "metadata": {},
   "source": [
    "> - Simplest Statistic:\n",
    "    >> - Number of data points\n",
    "    >> - Largest and smallest values"
   ]
  },
  {
   "cell_type": "code",
   "execution_count": 4,
   "id": "ef851fae",
   "metadata": {},
   "outputs": [
    {
     "data": {
      "text/plain": [
       "204"
      ]
     },
     "execution_count": 4,
     "metadata": {},
     "output_type": "execute_result"
    }
   ],
   "source": [
    "num_points = len(num_friends)\n",
    "num_points"
   ]
  },
  {
   "cell_type": "code",
   "execution_count": 5,
   "id": "66692119",
   "metadata": {},
   "outputs": [
    {
     "data": {
      "text/plain": [
       "(1, 100.0)"
      ]
     },
     "execution_count": 5,
     "metadata": {},
     "output_type": "execute_result"
    }
   ],
   "source": [
    "largest_value = max(num_friends)\n",
    "smallest_value = min(num_friends)\n",
    "smallest_value, largest_value"
   ]
  },
  {
   "cell_type": "markdown",
   "id": "a5889d61",
   "metadata": {},
   "source": [
    "> ## <font color='red'> Central Tendencies</font>"
   ]
  },
  {
   "cell_type": "markdown",
   "id": "b2cd2849",
   "metadata": {},
   "source": [
    "> <b>1. <font color='green'>Mean (or average):</b></font> which is just the sum of the data divided by its count"
   ]
  },
  {
   "cell_type": "code",
   "execution_count": 6,
   "id": "52adac39",
   "metadata": {},
   "outputs": [
    {
     "data": {
      "text/plain": [
       "7.333333333333333"
      ]
     },
     "execution_count": 6,
     "metadata": {},
     "output_type": "execute_result"
    }
   ],
   "source": [
    "def mean(xs):\n",
    "    return sum(xs) / len(xs)\n",
    "\n",
    "mean(num_friends)"
   ]
  },
  {
   "cell_type": "markdown",
   "id": "c23f26f5",
   "metadata": {},
   "source": [
    "> If you have two data points, the mean is simply the point halfway between them. As you add more points, the mean shifts around, but it always depends on the value of every point. <br/>\n",
    "> For example, if you have 10 data points, and you increase the value of any of them by 1, you increase the mean by 0.1."
   ]
  },
  {
   "cell_type": "markdown",
   "id": "68270d56",
   "metadata": {},
   "source": [
    "> <b>2. <font color='green'>Median:</b></font> which is the middle-most value (if the number of data points is odd) or the average of the two middle- most values (if the number of data points is even)"
   ]
  },
  {
   "cell_type": "markdown",
   "id": "a9d4d472",
   "metadata": {},
   "source": [
    "> Notice that—unlike the mean—the <b>median doesn’t fully depend on every value in your data</b>. <br/>\n",
    "> For example, if you make the largest point larger (or the smallest point smaller), the middle points remain unchanged, which means so does the median."
   ]
  },
  {
   "cell_type": "code",
   "execution_count": 14,
   "id": "5fb3d7d6",
   "metadata": {},
   "outputs": [],
   "source": [
    "def _median_odd(xs):\n",
    "    \"\"\"If len(xs) is odd, the median is the middle element\"\"\"\n",
    "    return sorted(xs)[len(xs) // 2]\n",
    "\n",
    "def _median_even(xs):\n",
    "    \"\"\"If len(xs) is even, it's the average of the middle two elements\"\"\"\n",
    "    sorted_xs = sorted(xs)\n",
    "    hi_midpoint = len(xs) // 2 # e.g. length 4 => hi_midpoint 2\n",
    "    return (sorted_xs[hi_midpoint - 1] + sorted_xs[hi_midpoint]) / 2\n",
    "\n",
    "def median(v):\n",
    "    \"\"\"Finds the 'middle-most' value of v\"\"\"\n",
    "    return _median_even(v) if len(v) % 2 == 0 else _median_odd(v)\n",
    "\n",
    "assert median([1, 10, 2, 9, 5]) == 5\n",
    "assert median([1, 9, 2, 10]) == (2 + 9) / 2"
   ]
  },
  {
   "cell_type": "code",
   "execution_count": 15,
   "id": "c3ff5711",
   "metadata": {},
   "outputs": [
    {
     "name": "stdout",
     "output_type": "stream",
     "text": [
      "6.0\n"
     ]
    }
   ],
   "source": [
    "print(median(num_friends))"
   ]
  },
  {
   "cell_type": "markdown",
   "id": "b8bb29a9",
   "metadata": {},
   "source": [
    "- The mean is simpler to compute, and it varies smoothly as our data changes. \n",
    "- If we have n data points and one of them increases by some small amount e, then necessarily the mean will increase by <b>e / n</b>. \n",
    " - In order to find the median, however, <b>we have to sort our data</b>. And changing one of our data points by a small amount e might increase the median by e, by some number less than e, or not at all (depending on the rest of the data).\n",
    "- The <b>mean is very sensitive to outliers</b> in our data, then the mean can sometimes give us a misleading picture\n",
    "- A generalization of the median is the quantile, which represents the value under which a certain percentile of the data lies <b>(the median represents the value under which 50% of the data lies)</b>"
   ]
  },
  {
   "cell_type": "code",
   "execution_count": 16,
   "id": "94f9b9f1",
   "metadata": {},
   "outputs": [],
   "source": [
    "def quantile(xs, p: float) -> float:\n",
    "    \"\"\"Returns the pth-percentile value in x\"\"\"\n",
    "    p_index = int(p * len(xs))\n",
    "    return sorted(xs)[p_index]\n",
    "\n",
    "assert quantile(num_friends, 0.10) == 1\n",
    "assert quantile(num_friends, 0.25) == 3\n",
    "assert quantile(num_friends, 0.75) == 9\n",
    "assert quantile(num_friends, 0.90) == 13"
   ]
  },
  {
   "cell_type": "markdown",
   "id": "a084f319",
   "metadata": {},
   "source": [
    "> <b>3. <font color='green'>Mode, or Most Common</font> value(s)</b>"
   ]
  },
  {
   "cell_type": "code",
   "execution_count": 17,
   "id": "b3c043c6",
   "metadata": {},
   "outputs": [],
   "source": [
    "def mode(x):\n",
    "    \"\"\"Returns a list, since there might be more than one mode\"\"\"\n",
    "    counts = Counter(x)\n",
    "    max_count = max(counts.values())\n",
    "    return [x_i for x_i, count in counts.items()\n",
    "            if count == max_count]\n",
    "\n",
    "assert set(mode(num_friends)) == {1, 6}"
   ]
  },
  {
   "cell_type": "markdown",
   "id": "55cd53c5",
   "metadata": {},
   "source": [
    "> ## <font color='red'>Dispersion</font>"
   ]
  },
  {
   "cell_type": "markdown",
   "id": "312f0022",
   "metadata": {},
   "source": [
    "> - Dispersion refers to <b>measures of how spread out our data is.</b> \n",
    "> - Typically they’re statistics for which values near zero signify not spread out at all and for which large values (whatever that means) signify very spread out. \n",
    "\n",
    "> <b>1. <font color='green'>Range </b></font>, which is very simple measure, just the difference between the largest and smallest elements"
   ]
  },
  {
   "cell_type": "code",
   "execution_count": 18,
   "id": "277b16e6",
   "metadata": {},
   "outputs": [],
   "source": [
    "def data_range(xs):\n",
    "    return max(xs) - min(xs)\n",
    "\n",
    "assert data_range(num_friends) == 99"
   ]
  },
  {
   "cell_type": "markdown",
   "id": "088d985b",
   "metadata": {},
   "source": [
    "- The range is <b>zero</b> precisely when the max and min are equal, which can only happen if the elements of x are all the same, which means the data is as undispersed as possible. \n",
    "- Conversely, if the range is <b>large</b>, then the max is much larger than the min and the data is more spread out.\n",
    "- <b> Like the median, the range doesn’t really depend on the whole dataset."
   ]
  },
  {
   "cell_type": "markdown",
   "id": "384c7fc2",
   "metadata": {},
   "source": [
    "> <b>2. <font color='green'>variance</font> </b> is more complex measure of dispersion"
   ]
  },
  {
   "cell_type": "code",
   "execution_count": 20,
   "id": "89c7cc1b",
   "metadata": {},
   "outputs": [],
   "source": [
    "from scratch.linear_algebra import sum_of_squares\n",
    "\n",
    "def de_mean(xs):\n",
    "    \"\"\"Translate xs by subtracting its mean (so the result has mean 0)\"\"\"\n",
    "    x_bar = mean(xs)\n",
    "    return [x - x_bar for x in xs]\n",
    "\n",
    "def variance(xs):\n",
    "    \"\"\"Almost the average squared deviation from the mean\"\"\"\n",
    "    assert len(xs) >= 2, \"variance requires at least two elements\"\n",
    "\n",
    "    n = len(xs)\n",
    "    deviations = de_mean(xs)\n",
    "    return sum_of_squares(deviations) / (n - 1)\n",
    "\n",
    "assert 81.54 < variance(num_friends) < 81.55"
   ]
  },
  {
   "cell_type": "markdown",
   "id": "cffa7859",
   "metadata": {},
   "source": [
    "> - The variance, on the other hand, has units that are the <b>square of the original units</b> (e.g., “friends squared”). As it can be hard to make sense of these we often look instead at the standard deviation <br/>\n",
    "><b>3. <font color=\"green\">standard deviation</font></b>"
   ]
  },
  {
   "cell_type": "code",
   "execution_count": 21,
   "id": "94555644",
   "metadata": {},
   "outputs": [],
   "source": [
    "import math\n",
    "\n",
    "def standard_deviation(xs):\n",
    "    \"\"\"The standard deviation is the square root of the variance\"\"\"\n",
    "    return math.sqrt(variance(xs))\n",
    "\n",
    "assert 9.02 < standard_deviation(num_friends) < 9.04"
   ]
  },
  {
   "cell_type": "markdown",
   "id": "06083c9c",
   "metadata": {},
   "source": [
    "> - Both the <b>range and the standard deviation have the same outlier problem that we saw earlier for the mean</b>\n",
    "> - A more robust alternative computes the <b>difference between the 75th percentile value and the 25th percentile value"
   ]
  },
  {
   "cell_type": "markdown",
   "id": "1f558221",
   "metadata": {},
   "source": [
    "> <b> 4. <font color=\"green\">Interquartile Range</font></b>"
   ]
  },
  {
   "cell_type": "code",
   "execution_count": 22,
   "id": "b16e3f95",
   "metadata": {},
   "outputs": [],
   "source": [
    "def interquartile_range(xs):\n",
    "    \"\"\"Returns the difference between the 75%-ile and the 25%-ile\"\"\"\n",
    "    return quantile(xs, 0.75) - quantile(xs, 0.25)\n",
    "\n",
    "assert interquartile_range(num_friends) == 6"
   ]
  },
  {
   "cell_type": "markdown",
   "id": "0c72be48",
   "metadata": {},
   "source": [
    "> ## <font color='red'>Covariance / Correlation</font>"
   ]
  },
  {
   "cell_type": "markdown",
   "id": "d364ecf6",
   "metadata": {},
   "source": [
    "> - The amount of time people spend on the site \"daily_minutes\" is related to the number of friends \"num_friends\" they have on the site"
   ]
  },
  {
   "cell_type": "code",
   "execution_count": 23,
   "id": "2e1c1ce9",
   "metadata": {},
   "outputs": [],
   "source": [
    "daily_minutes = [1,68.77,51.25,52.08,38.36,44.54,57.13,51.4,41.42,31.22,34.76,54.01,38.79,47.59,49.1,27.66,41.03,36.73,48.65,28.12,46.62,35.57,32.98,35,26.07,23.77,39.73,40.57,31.65,31.21,36.32,20.45,21.93,26.02,27.34,23.49,46.94,30.5,33.8,24.23,21.4,27.94,32.24,40.57,25.07,19.42,22.39,18.42,46.96,23.72,26.41,26.97,36.76,40.32,35.02,29.47,30.2,31,38.11,38.18,36.31,21.03,30.86,36.07,28.66,29.08,37.28,15.28,24.17,22.31,30.17,25.53,19.85,35.37,44.6,17.23,13.47,26.33,35.02,32.09,24.81,19.33,28.77,24.26,31.98,25.73,24.86,16.28,34.51,15.23,39.72,40.8,26.06,35.76,34.76,16.13,44.04,18.03,19.65,32.62,35.59,39.43,14.18,35.24,40.13,41.82,35.45,36.07,43.67,24.61,20.9,21.9,18.79,27.61,27.21,26.61,29.77,20.59,27.53,13.82,33.2,25,33.1,36.65,18.63,14.87,22.2,36.81,25.53,24.62,26.25,18.21,28.08,19.42,29.79,32.8,35.99,28.32,27.79,35.88,29.06,36.28,14.1,36.63,37.49,26.9,18.58,38.48,24.48,18.95,33.55,14.24,29.04,32.51,25.63,22.22,19,32.73,15.16,13.9,27.2,32.01,29.27,33,13.74,20.42,27.32,18.23,35.35,28.48,9.08,24.62,20.12,35.26,19.92,31.02,16.49,12.16,30.7,31.22,34.65,13.13,27.51,33.2,31.57,14.1,33.42,17.44,10.12,24.42,9.82,23.39,30.93,15.03,21.67,31.09,33.29,22.61,26.89,23.48,8.38,27.81,32.35,23.84]\n",
    "daily_hours = [dm / 60 for dm in daily_minutes]"
   ]
  },
  {
   "cell_type": "markdown",
   "id": "1eaf1332",
   "metadata": {},
   "source": [
    "> <b>1. <font color=\"green\">covariance</font></b>, the paired analogue of variance. \n",
    "> - Variance measures how a single variable deviates from its mean<br/>\n",
    "Covariance measures how two variables vary in tandem from their means\n",
    "> - var(x) == cov(x,x)"
   ]
  },
  {
   "cell_type": "code",
   "execution_count": 25,
   "id": "925a51fa",
   "metadata": {},
   "outputs": [],
   "source": [
    "from scratch.linear_algebra import dot\n",
    "\n",
    "def covariance(xs, ys) -> float:\n",
    "    assert len(xs) == len(ys), \"xs and ys must have same number of elements\"\n",
    "    return dot(de_mean(xs), de_mean(ys)) / (len(xs) - 1)\n",
    "\n",
    "assert 22.42 < covariance(num_friends, daily_minutes) < 22.43\n",
    "assert 22.42 / 60 < covariance(num_friends, daily_hours) < 22.43 / 60"
   ]
  },
  {
   "cell_type": "markdown",
   "id": "f4a52099",
   "metadata": {},
   "source": [
    "> - When corresponding elements of x and y are either both above their means or both below their means, a positive number enters the sum. \n",
    "> - When one is above its mean and the other below, a negative number enters the sum.\n",
    "> - A “large” positive covariance means that x tends to be large when y is large and small when y is small. \n",
    "> - A “large” negative covariance means the opposite—that x tends to be small when y is large and vice versa.\n",
    "> - A covariance close to zero means that no such relationship exists."
   ]
  },
  {
   "cell_type": "markdown",
   "id": "d1a1276b",
   "metadata": {},
   "source": [
    "> - Covariance number can be hard to interpret:\n",
    ">> - If each user had twice as many friends (but the same number of minutes), the covariance would be twice as large. But in a sense, the variables would be just as interrelated. Said differently, it’s hard to say what counts as a “large” covariance."
   ]
  },
  {
   "cell_type": "markdown",
   "id": "bcbc5d6c",
   "metadata": {},
   "source": [
    "> <b><font color=\"green\">Correlation</font></b>\n",
    "> - Which divides out the standard deviations of both variables\n",
    "> - Correlation is unitless and always lies between –1 (perfect anticorrelation) and 1 (perfect correlation). A number like 0.25 represents a relatively weak positive correlation."
   ]
  },
  {
   "cell_type": "code",
   "execution_count": 26,
   "id": "b29504f8",
   "metadata": {},
   "outputs": [],
   "source": [
    "def correlation(xs, ys):\n",
    "    \"\"\"Measures how much xs and ys vary in tandem about their means\"\"\"\n",
    "    stdev_x = standard_deviation(xs)\n",
    "    stdev_y = standard_deviation(ys)\n",
    "    if stdev_x > 0 and stdev_y > 0:\n",
    "        return covariance(xs, ys) / stdev_x / stdev_y\n",
    "    else:\n",
    "        return 0 # if no variation, correlation is zero\n",
    "    \n",
    "assert 0.24 < correlation(num_friends, daily_minutes) < 0.25\n",
    "assert 0.24 < correlation(num_friends, daily_hours) < 0.25"
   ]
  },
  {
   "cell_type": "code",
   "execution_count": 27,
   "id": "d609c65a",
   "metadata": {},
   "outputs": [
    {
     "data": {
      "image/png": "[encoded data removed]",
      "text/plain": [
       "<Figure size 1080x504 with 1 Axes>"
      ]
     },
     "metadata": {
      "needs_background": "light"
     },
     "output_type": "display_data"
    }
   ],
   "source": [
    "plt.figure(figsize=(15, 7))\n",
    "plt.scatter(num_friends, daily_minutes)\n",
    "plt.title(\"Correlation with an outlier\")\n",
    "plt.xlabel(\"# of friends\")\n",
    "plt.ylabel(\"minutes per day\");"
   ]
  },
  {
   "cell_type": "markdown",
   "id": "1caa2d56",
   "metadata": {},
   "source": [
    "> - The person with 100 friends (who spends only 1 minute per day on the site) is a huge outlier, and correlation can be very sensitive to outliers. What happens if we ignore him?"
   ]
  },
  {
   "cell_type": "code",
   "execution_count": 28,
   "id": "4d59c8ed",
   "metadata": {},
   "outputs": [],
   "source": [
    "outlier = num_friends.index(100) # index of outlier\n",
    "\n",
    "num_friends_good = [x for i, x in enumerate(num_friends) if i != outlier]\n",
    "daily_minutes_good = [x for i, x in enumerate(daily_minutes) if i != outlier]\n",
    "daily_hours_good = [dm / 60 for dm in daily_minutes_good]"
   ]
  },
  {
   "cell_type": "code",
   "execution_count": 29,
   "id": "992f46a2",
   "metadata": {},
   "outputs": [],
   "source": [
    "assert 0.57 < correlation(num_friends_good, daily_minutes_good) < 0.58\n",
    "assert 0.57 < correlation(num_friends_good, daily_hours_good) < 0.58"
   ]
  },
  {
   "cell_type": "code",
   "execution_count": 30,
   "id": "f184c216",
   "metadata": {},
   "outputs": [
    {
     "data": {
      "image/png": "[encoded data removed]",
      "text/plain": [
       "<Figure size 1080x504 with 1 Axes>"
      ]
     },
     "metadata": {
      "needs_background": "light"
     },
     "output_type": "display_data"
    }
   ],
   "source": [
    "plt.figure(figsize=(15, 7))\n",
    "plt.scatter(num_friends_good, daily_minutes_good)\n",
    "plt.title(\"Correlation After Removing Outlier\")\n",
    "plt.xlabel(\"# of friends\")\n",
    "plt.ylabel(\"minutes per day\");"
   ]
  },
  {
   "cell_type": "markdown",
   "id": "086c431c",
   "metadata": {},
   "source": [
    "> - Without the outlier, there is a much stronger correlation\n",
    "> - You investigate further and discover that the outlier was actually an internal test account that no one ever bothered to remove. So you feel justified in excluding it"
   ]
  },
  {
   "cell_type": "markdown",
   "id": "f9b90753",
   "metadata": {},
   "source": [
    "> ## <font color='red'>Simpson’s Paradox</font>"
   ]
  },
  {
   "cell_type": "markdown",
   "id": "e1762d17",
   "metadata": {},
   "source": [
    "> <b>Simpson's Paradox</b>\n",
    "> is a statistical phenomenon where an association between two variables in a population emerges, disappears or reverses when the population is divided into subpopulations.\n",
    "> - correlations can be misleading when confounding variables are ignored"
   ]
  },
  {
   "cell_type": "markdown",
   "id": "99a848aa",
   "metadata": {},
   "source": [
    "<table>\n",
    "<thead>\n",
    "<tr>\n",
    "    <th>Coast</th>\n",
    "    <th># of members</th>\n",
    "    <th>Avg. # of friends</th>\n",
    "</tr>\n",
    "</thead>\n",
    "<tbody>\n",
    "<tr>\n",
    "    <td>West Coast</td>\n",
    "    <td>101</td>\n",
    "    <td>8.2</td>\n",
    "</tr>\n",
    " <tr>\n",
    "    <td>East Coast</td>\n",
    "    <td>103</td>\n",
    "    <td>6.5</td>\n",
    "</tr>\n",
    "</tbody>\n",
    "</table>"
   ]
  },
  {
   "cell_type": "markdown",
   "id": "ea65c6a7",
   "metadata": {},
   "source": [
    "> It certainly looks like the West Coast data scientists are friendlier than the East Coast data scientists"
   ]
  },
  {
   "cell_type": "markdown",
   "id": "96fad5bb",
   "metadata": {},
   "source": [
    "<table>\n",
    "<thead>\n",
    "<tr>\n",
    "    <th>Coast</th>\n",
    "    <th>Degree</th>\n",
    "    <th># of members</th>\n",
    "    <th>Avg. # of friends</th>\n",
    "</tr>\n",
    "</thead>\n",
    "<tbody>\n",
    "<tr>\n",
    "    <td>West Coast</td>\n",
    "    <td>PhD</td>\n",
    "    <td>35</td>\n",
    "    <td>3.1</td>\n",
    "</tr>\n",
    "<tr>\n",
    "    <td>East Coast</td>\n",
    "    <td>PhD</td>\n",
    "    <td>70</td>\n",
    "    <td>3.2</td>\n",
    "</tr>\n",
    "<tr>\n",
    "    <td>West Coast</td>\n",
    "    <td>No PhD</td>\n",
    "    <td>66</td>\n",
    "    <td>10.9</td>\n",
    "</tr>\n",
    "<tr>\n",
    "    <td>East Coast</td>\n",
    "    <td>No PhD</td>\n",
    "    <td>33</td>\n",
    "    <td>13.4</td>\n",
    "</tr>\n",
    "</tbody>\n",
    "</table>"
   ]
  },
  {
   "cell_type": "markdown",
   "id": "7e6fb5d1",
   "metadata": {},
   "source": [
    "> But when playing with the data, you discover something very strange. If you look only at people with PhDs, the East Coast data scientists have more friends on average. And if you look only at people without PhDs, the East Coast data scientists also have more friends on average!\n",
    "\n",
    "> Once you account for the users’ degrees, the correlation goes in the opposite direction!\n",
    "\n",
    "> <b>** The key issue is that correlation is measuring the relationship between your two variables all else being equal"
   ]
  },
  {
   "cell_type": "markdown",
   "id": "ce792b27",
   "metadata": {},
   "source": [
    "> ## <font color='red'>Some Other Correlational Caveats</font>"
   ]
  },
  {
   "cell_type": "markdown",
   "id": "b3c566c2",
   "metadata": {},
   "source": [
    "> - <b>1. <font color=\"green\">A correlation of zero</font></b> indicates that there is no linear relationship between the two variables. However, there may be other sorts of relationships"
   ]
  },
  {
   "cell_type": "code",
   "execution_count": 31,
   "id": "d8236af1",
   "metadata": {},
   "outputs": [],
   "source": [
    "x = [-2, -1, 0, 1, 2]\n",
    "y = [ 2, 1, 0, 1, 2]"
   ]
  },
  {
   "cell_type": "markdown",
   "id": "91599d4d",
   "metadata": {},
   "source": [
    "- Then x and y have zero correlation. But they certainly have a relationship— each element of y equals the absolute value of the corresponding element of\n",
    "x. What they don’t have is a relationship in which knowing how x_i compares to mean(x) gives us information about how y_i compares to mean(y) . That is the sort of relationship that correlation looks for."
   ]
  },
  {
   "cell_type": "markdown",
   "id": "ad2a7467",
   "metadata": {},
   "source": [
    "> - <b>2.</b> In addition, correlation tells you nothing about <b><font color=\"green\">how large the relationship</font></b> is"
   ]
  },
  {
   "cell_type": "code",
   "execution_count": 32,
   "id": "dae11560",
   "metadata": {},
   "outputs": [],
   "source": [
    "x = [-2, -1, 0, 1, 2]\n",
    "y = [99.98, 99.99, 100, 100.01, 100.02]"
   ]
  },
  {
   "cell_type": "markdown",
   "id": "1b59b732",
   "metadata": {},
   "source": [
    "> are perfectly correlated, but (depending on what you’re measuring) it’s quite possible that this relationship isn’t all that interesting."
   ]
  },
  {
   "cell_type": "markdown",
   "id": "691386da",
   "metadata": {},
   "source": [
    "> ## <font color='red'>Correlation and Causation</font>\n",
    "> “correlation is not causation,”"
   ]
  },
  {
   "cell_type": "markdown",
   "id": "66e300b9",
   "metadata": {},
   "source": [
    "> If x and y are strongly correlated, that might mean that x causes y , that y causes x , that each causes the other, that some third factor causes both, or nothing at all.\n",
    "\n",
    "> One way to feel more confident about causality is by conducting randomized trials. If you can randomly split your users into two groups with similar demographics and give one of the groups a slightly different experience, then you can often feel pretty good that the different experiences are causing the different outcomes.\n",
    "\n",
    "> You could randomly choose a subset of your users and show them content from only a fraction of their friends. If\n",
    "this subset subsequently spent less time on the site, this would give you some confidence that having more friends _causes more time to be spent on the site"
   ]
  },
  {
   "cell_type": "markdown",
   "id": "cb3f3ac9",
   "metadata": {},
   "source": [
    "> Searching Points:\n",
    "> - Intention\n",
    "> - IID(Indentically Independent): no correlation with any variable "
   ]
  },
  {
   "cell_type": "code",
   "execution_count": null,
   "id": "9b622587",
   "metadata": {},
   "outputs": [],
   "source": []
  }
 ],
 "metadata": {
  "kernelspec": {
   "display_name": "Python 3",
   "language": "python",
   "name": "python3"
  },
  "language_info": {
   "codemirror_mode": {
    "name": "ipython",
    "version": 3
   },
   "file_extension": ".py",
   "mimetype": "text/x-python",
   "name": "python",
   "nbconvert_exporter": "python",
   "pygments_lexer": "ipython3",
   "version": "3.7.3"
  }
 },
 "nbformat": 4,
 "nbformat_minor": 5
}
